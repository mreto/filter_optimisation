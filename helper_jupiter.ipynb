{
 "cells": [
  {
   "cell_type": "code",
   "execution_count": null,
   "metadata": {},
   "outputs": [],
   "source": [
    "#helper sometimes it is better to try some stuff here and do it sequentially\n",
    "%load_ext autoreload\n",
    "%autoreload 2\n",
    "#reload function when it changes\n"
   ]
  },
  {
   "cell_type": "code",
   "execution_count": null,
   "metadata": {},
   "outputs": [],
   "source": [
    "import createMeshData as hp\n",
    "import numpy as np\n",
    "import matplotlib.pyplot as plt"
   ]
  },
  {
   "cell_type": "code",
   "execution_count": null,
   "metadata": {},
   "outputs": [],
   "source": [
    "verbose = False\n",
    "iteration = 13\n",
    "\n",
    "width = 6.4\n",
    "lsList = [6.4, 3.2, 3.2, 6.4]\n",
    "epsilon = 0.01\n",
    "lcar = 0.1"
   ]
  },
  {
   "cell_type": "code",
   "execution_count": null,
   "metadata": {},
   "outputs": [],
   "source": [
    "d13 = 2.8\n",
    "d2 = 4.2\n",
    "dList = [d13, d2, d13]\n",
    "f11, f21, freq = hp.get_characteristic(width, lsList, dList, epsilon, lcar)\n",
    "\n",
    "d13 = 3.44\n",
    "d2 = 2.7\n",
    "dList = [d13, d2, d13]\n",
    "f12, f22, freq = hp.get_characteristic(width, lsList, dList, epsilon, lcar)"
   ]
  },
  {
   "cell_type": "code",
   "execution_count": null,
   "metadata": {},
   "outputs": [],
   "source": [
    "print(dList)\n",
    "plt.plot(freq / 1e-9, f11[0], 'r')\n",
    "plt.plot(freq / 1e-9, f21[0], 'b')\n",
    "plt.savefig(\"2.8_4.2_version1.png\")"
   ]
  },
  {
   "cell_type": "code",
   "execution_count": null,
   "metadata": {},
   "outputs": [],
   "source": [
    "import matplotlib.pyplot as plt\n",
    "plt.plot(freq / 1e-9, f12[0], 'r')\n",
    "plt.plot(freq / 1e-9, f22[0], 'b')\n",
    "plt.savefig(\"3.44_2.7_version1.png\")\n"
   ]
  },
  {
   "cell_type": "code",
   "execution_count": null,
   "metadata": {},
   "outputs": [],
   "source": [
    "plt.plot(freq / 1e-9, f11[0]-f12[0], 'r')\n",
    "plt.plot(freq / 1e-9, f21[0]-f22[0], 'b')\n",
    "plt.savefig(\"difference.png\")"
   ]
  },
  {
   "cell_type": "code",
   "execution_count": null,
   "metadata": {},
   "outputs": [],
   "source": [
    "# -*- coding: utf-8 -*-\n",
    "import pygmsh\n",
    "import meshio\n",
    "\n",
    "def test():\n",
    "    geom = pygmsh.built_in.Geometry()\n",
    "\n",
    "    geom.add_polygon([[0,0,0], [1, 0, 0], [1, 1, 0], [0,1,0]], lcar=lcar)#0.25 is quite decent\n",
    "\n",
    "\n",
    "    ref = 1.0\n",
    "    points, cells, _, _, _ = pygmsh.generate_mesh(geom)\n",
    "    return points, cells"
   ]
  },
  {
   "cell_type": "code",
   "execution_count": null,
   "metadata": {},
   "outputs": [],
   "source": [
    "p, c = test()"
   ]
  },
  {
   "cell_type": "code",
   "execution_count": null,
   "metadata": {},
   "outputs": [],
   "source": [
    "len(p)"
   ]
  },
  {
   "cell_type": "code",
   "execution_count": null,
   "metadata": {},
   "outputs": [],
   "source": [
    "len(c['triangle'])"
   ]
  },
  {
   "cell_type": "code",
   "execution_count": null,
   "metadata": {},
   "outputs": [],
   "source": []
  }
 ],
 "metadata": {
  "kernelspec": {
   "display_name": "Python 3",
   "language": "python",
   "name": "python3"
  },
  "language_info": {
   "codemirror_mode": {
    "name": "ipython",
    "version": 3
   },
   "file_extension": ".py",
   "mimetype": "text/x-python",
   "name": "python",
   "nbconvert_exporter": "python",
   "pygments_lexer": "ipython3",
   "version": "3.6.6"
  }
 },
 "nbformat": 4,
 "nbformat_minor": 2
}
