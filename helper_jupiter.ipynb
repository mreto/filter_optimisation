{
 "cells": [
  {
   "cell_type": "code",
   "execution_count": 1,
   "metadata": {},
   "outputs": [],
   "source": [
    "#helper sometimes it is better to try some stuff here and do it sequentially\n",
    "%load_ext autoreload\n",
    "%autoreload 2\n",
    "#reload function when it changes\n"
   ]
  },
  {
   "cell_type": "code",
   "execution_count": 2,
   "metadata": {},
   "outputs": [],
   "source": [
    "def count_diff_prin_plot(f1, f2, d13, d2):\n",
    "    width = 6.4\n",
    "    lsList = [6.4, 3.2, 3.2, 6.4]\n",
    "    epsilon = 0.01\n",
    "    lcar = 0.1\n",
    "    dList = [d13, d2, d13]\n",
    "    f1_mod, f2_mod, freq = hp.get_characteristic(width, lsList, dList, epsilon, lcar)\n",
    "    score = np.sum(np.absolute(f1 - f1_mod) + np.absolute(f2 - f2_mod))\n",
    "\n",
    "    plt.clf()\n",
    "    plt.plot(freq / 1e-9, f1_mod[0], 'r')\n",
    "    plt.plot(freq / 1e-9, f2_mod[0], 'b')\n",
    "    plt.title(\"F(3.3, 4.6)-F(\"+str(d13)+\",\"+str(d2)+\") = \"+str(score))\n",
    "    plt.savefig(str(d13)+'_'+str(d2)+\".png\")\n",
    "    plt.clf()\n",
    "    return score\n",
    "    \n",
    "    "
   ]
  },
  {
   "cell_type": "code",
   "execution_count": 3,
   "metadata": {},
   "outputs": [
    {
     "name": "stdout",
     "output_type": "stream",
     "text": [
      "\u001b[33m╭────────────────────────────────────╮\u001b[0m\n",
      "\u001b[33m│                                    │\u001b[0m\n",
      "\u001b[33m│\u001b[0m   Update available \u001b[38;5;241m2.2.5\u001b[0m → \u001b[32m2.3.3\u001b[0m   \u001b[33m│\u001b[0m\n",
      "\u001b[33m│\u001b[0m         for package meshio         \u001b[33m│\u001b[0m\n",
      "\u001b[33m│                                    │\u001b[0m\n",
      "\u001b[33m╰────────────────────────────────────╯\u001b[0m\n",
      "\u001b[33m╭────────────────────────────────────╮\u001b[0m\n",
      "\u001b[33m│                                    │\u001b[0m\n",
      "\u001b[33m│\u001b[0m   Update available \u001b[38;5;241m4.3.4\u001b[0m → \u001b[32m4.3.6\u001b[0m   \u001b[33m│\u001b[0m\n",
      "\u001b[33m│\u001b[0m         for package pygmsh         \u001b[33m│\u001b[0m\n",
      "\u001b[33m│                                    │\u001b[0m\n",
      "\u001b[33m╰────────────────────────────────────╯\u001b[0m\n"
     ]
    }
   ],
   "source": [
    "import createMeshData as hp\n",
    "import numpy as np\n",
    "import matplotlib.pyplot as plt"
   ]
  },
  {
   "cell_type": "code",
   "execution_count": 21,
   "metadata": {},
   "outputs": [
    {
     "name": "stdout",
     "output_type": "stream",
     "text": [
      "[[ -1.23541228  -1.4231567   -1.64742719  -1.91674313  -2.24188136\n",
      "   -2.63653689  -3.11821356  -3.70947091  -4.43977617  -5.34848977\n",
      "   -6.49017769  -7.94514424  -9.84297143 -12.42381449 -16.24114325\n",
      "  -23.2477864  -36.53058963 -20.44461171 -15.37337131 -12.39631998\n",
      "  -10.35726088  -8.85535649  -7.70117506  -6.78897469  -6.05327416\n",
      "   -5.45060531  -4.95067107  -4.53159046  -4.1771304   -3.87499177\n",
      "   -3.61569606  -3.39183399  -3.19754304  -3.02813501  -2.87982526\n",
      "   -2.7495325   -2.63472856  -2.53332439  -2.44358242  -2.36404868\n",
      "   -2.29349966  -2.23090034  -2.17537097  -2.12616031  -2.08262422\n",
      "   -2.04420819  -2.0104332   -1.980884    -1.95519959  -1.93306527\n",
      "   -1.91420597  -1.89838081  -1.88537841  -1.87501303  -1.86712122\n",
      "   -1.86155909  -1.85819987  -1.85693192  -1.85765697  -1.86028865\n",
      "   -1.86475118  -1.87097832  -1.87891236  -1.88850335  -1.89970839\n",
      "   -1.91249099  -1.9268206   -1.94267211  -1.96002552  -1.97886559\n",
      "   -1.99918154  -2.02096689  -2.04421923  -2.06894005  -2.09513469\n",
      "   -2.1228122   -2.15198533  -2.18267046  -2.21488763  -2.24866055\n",
      "   -2.28401666  -2.32098716  -2.35960716  -2.39991575  -2.44195613\n",
      "   -2.48577582  -2.53142675  -2.57896555  -2.62845373  -2.67995792\n",
      "   -2.73355016  -2.78930822  -2.84731589  -2.90766335  -2.97044758\n",
      "   -3.03577279  -3.10375083  -3.17450177  -3.24815437  -3.32484674\n",
      "   -3.40472696  -3.48795379  -3.57469743  -3.6651404   -3.75947841\n",
      "   -3.85792143  -3.96069475  -4.06804024  -4.18021768  -4.29750626\n",
      "   -4.42020626  -4.54864087  -4.68315824  -4.82413386  -4.97197309\n",
      "   -5.12711412  -5.29003136  -5.46123914  -5.64129617  -5.8308105\n",
      "   -6.03044533  -6.24092577  -6.4630468   -6.69768254  -6.94579736\n",
      "   -7.20845912  -7.48685507  -7.78231122  -8.09631595  -8.43054923\n",
      "   -8.78691896  -9.1676068   -9.57512647 -10.0123989  -10.48285041\n",
      "  -10.99054287 -11.5403492  -12.13819449 -12.79139447 -13.50914239\n",
      "  -14.30323008 -15.18915197 -16.1878658  -17.32874148 -18.65481256\n",
      "  -20.23289234 -22.17521845 -24.69318268 -28.26537917 -34.4487891\n",
      "  -61.92596064 -33.83372058 -27.98310671 -24.53304701 -22.08456407\n",
      "  -20.19065942 -18.65047348 -17.35628335 -16.24353425 -15.2704487\n",
      "  -14.40841191 -13.63694828 -12.94088653 -12.3086604  -11.73123959\n",
      "  -11.20142987 -10.71339922 -10.26234787  -9.84427285  -9.45579631\n",
      "   -9.09403801  -8.75651908  -8.44108818  -8.14586424  -7.86919135\n",
      "   -7.60960294  -7.36579303  -7.13659284  -6.9209518   -6.7179218\n",
      "   -6.5266444   -6.34634143  -6.17635796  -6.0158196   -5.86440148\n",
      "   -5.72144133  -5.5864413   -5.45893816  -5.33850359  -5.22474139\n",
      "   -5.11728462  -5.0157931   -4.91995107  -4.82946516  -4.74406255\n",
      "   -4.66348929  -4.58750888  -4.51590084  -4.44845955  -4.38499309\n",
      "   -4.32532228]\n",
      " [ -1.23541228  -1.4231567   -1.64742719  -1.91674313  -2.24188136\n",
      "   -2.63653689  -3.11821356  -3.70947091  -4.43977617  -5.34848977\n",
      "   -6.49017769  -7.94514424  -9.84297143 -12.42381449 -16.24114325\n",
      "  -23.2477864  -36.53058963 -20.44461171 -15.37337131 -12.39631998\n",
      "  -10.35726088  -8.85535649  -7.70117506  -6.78897469  -6.05327416\n",
      "   -5.45060531  -4.95067107  -4.53159046  -4.1771304   -3.87499177\n",
      "   -3.61569606  -3.39183399  -3.19754304  -3.02813501  -2.87982526\n",
      "   -2.7495325   -2.63472856  -2.53332439  -2.44358242  -2.36404868\n",
      "   -2.29349966  -2.23090034  -2.17537097  -2.12616031  -2.08262422\n",
      "   -2.04420819  -2.0104332   -1.980884    -1.95519959  -1.93306527\n",
      "   -1.91420597  -1.89838081  -1.88537841  -1.87501303  -1.86712122\n",
      "   -1.86155909  -1.85819987  -1.85693192  -1.85765697  -1.86028865\n",
      "   -1.86475118  -1.87097832  -1.87891236  -1.88850335  -1.89970839\n",
      "   -1.91249099  -1.9268206   -1.94267211  -1.96002552  -1.97886559\n",
      "   -1.99918154  -2.02096689  -2.04421923  -2.06894005  -2.09513469\n",
      "   -2.1228122   -2.15198533  -2.18267046  -2.21488763  -2.24866055\n",
      "   -2.28401666  -2.32098716  -2.35960716  -2.39991575  -2.44195613\n",
      "   -2.48577582  -2.53142675  -2.57896555  -2.62845373  -2.67995792\n",
      "   -2.73355016  -2.78930822  -2.84731589  -2.90766335  -2.97044758\n",
      "   -3.03577279  -3.10375083  -3.17450177  -3.24815437  -3.32484674\n",
      "   -3.40472696  -3.48795379  -3.57469743  -3.6651404   -3.75947841\n",
      "   -3.85792143  -3.96069475  -4.06804024  -4.18021768  -4.29750626\n",
      "   -4.42020626  -4.54864087  -4.68315824  -4.82413386  -4.97197309\n",
      "   -5.12711412  -5.29003136  -5.46123914  -5.64129617  -5.8308105\n",
      "   -6.03044533  -6.24092577  -6.4630468   -6.69768254  -6.94579736\n",
      "   -7.20845912  -7.48685507  -7.78231122  -8.09631595  -8.43054923\n",
      "   -8.78691896  -9.1676068   -9.57512647 -10.0123989  -10.48285041\n",
      "  -10.99054287 -11.5403492  -12.13819449 -12.79139447 -13.50914239\n",
      "  -14.30323008 -15.18915197 -16.1878658  -17.32874148 -18.65481256\n",
      "  -20.23289234 -22.17521845 -24.69318268 -28.26537917 -34.4487891\n",
      "  -61.92596064 -33.83372058 -27.98310671 -24.53304701 -22.08456407\n",
      "  -20.19065942 -18.65047348 -17.35628335 -16.24353425 -15.2704487\n",
      "  -14.40841191 -13.63694828 -12.94088653 -12.3086604  -11.73123959\n",
      "  -11.20142987 -10.71339922 -10.26234787  -9.84427285  -9.45579631\n",
      "   -9.09403801  -8.75651908  -8.44108818  -8.14586424  -7.86919135\n",
      "   -7.60960294  -7.36579303  -7.13659284  -6.9209518   -6.7179218\n",
      "   -6.5266444   -6.34634143  -6.17635796  -6.0158196   -5.86440148\n",
      "   -5.72144133  -5.5864413   -5.45893816  -5.33850359  -5.22474139\n",
      "   -5.11728462  -5.0157931   -4.91995107  -4.82946516  -4.74406255\n",
      "   -4.66348929  -4.58750888  -4.51590084  -4.44845955  -4.38499309\n",
      "   -4.32532228]]\n"
     ]
    }
   ],
   "source": [
    "verbose = False\n",
    "iteration = 13\n",
    "\n",
    "width = 6.4\n",
    "lsList = [6.4, 3.2, 3.2, 6.4]\n",
    "epsilon = 0.01\n",
    "lcar = 0.1\n",
    "\n",
    "print(f11)"
   ]
  },
  {
   "cell_type": "code",
   "execution_count": 20,
   "metadata": {
    "scrolled": false
   },
   "outputs": [
    {
     "name": "stdout",
     "output_type": "stream",
     "text": [
      "Info    : Running 'gmsh -3 /tmp/tmpfjxuj7af.geo -format msh -bin -o /tmp/tmp8qex_c3w.msh' [Gmsh 4.0.1-git-5d9cca6, 1 node, max. 1 thread]\n",
      "Info    : Started on Thu Oct 18 22:31:57 2018\n",
      "Info    : Reading '/tmp/tmpfjxuj7af.geo'...\n",
      "Info    : Done reading '/tmp/tmpfjxuj7af.geo'\n",
      "Info    : Meshing 1D...\n",
      "Info    : Meshing curve 1 (Line)\n",
      "Info    : Meshing curve 2 (Line)\n",
      "Info    : Meshing curve 3 (Line)\n",
      "Info    : Meshing curve 4 (Line)\n",
      "Info    : Meshing curve 5 (Line)\n",
      "Info    : Meshing curve 6 (Line)\n",
      "Info    : Meshing curve 7 (Line)\n",
      "Info    : Meshing curve 8 (Line)\n",
      "Info    : Meshing curve 9 (Line)\n",
      "Info    : Meshing curve 10 (Line)\n",
      "Info    : Meshing curve 11 (Line)\n",
      "Info    : Meshing curve 12 (Line)\n",
      "Info    : Meshing curve 13 (Line)\n",
      "Info    : Meshing curve 14 (Line)\n",
      "Info    : Meshing curve 15 (Line)\n",
      "Info    : Meshing curve 16 (Line)\n",
      "Info    : Meshing curve 17 (Line)\n",
      "Info    : Meshing curve 18 (Line)\n",
      "Info    : Meshing curve 19 (Line)\n",
      "Info    : Meshing curve 20 (Line)\n",
      "Info    : Meshing curve 21 (Line)\n",
      "Info    : Meshing curve 22 (Line)\n",
      "Info    : Meshing curve 23 (Line)\n",
      "Info    : Meshing curve 24 (Line)\n",
      "Info    : Meshing curve 25 (Line)\n",
      "Info    : Meshing curve 26 (Line)\n",
      "Info    : Meshing curve 27 (Line)\n",
      "Info    : Meshing curve 28 (Line)\n",
      "Info    : Done meshing 1D (0.005126 s)\n",
      "Info    : Meshing 2D...\n",
      "Info    : Meshing surface 30 (Plane, MeshAdapt)\n",
      "Info    : Done meshing 2D (3.41004 s)\n",
      "Info    : Meshing 3D...\n",
      "Info    : Done meshing 3D (2.4e-05 s)\n",
      "Info    : 14707 vertices 29440 elements\n",
      "Info    : Writing '/tmp/tmp8qex_c3w.msh'...\n",
      "Info    : Done writing '/tmp/tmp8qex_c3w.msh'\n",
      "Info    : Stopped on Thu Oct 18 22:32:01 2018\n",
      "MainThread\n"
     ]
    }
   ],
   "source": [
    "d13 = 3.3\n",
    "d2 = 4.6\n",
    "\n",
    "dList = [d13, d2, d13]\n",
    "f11, f21, freq = hp.get_characteristic(width, lsList, dList, epsilon, lcar)\n"
   ]
  },
  {
   "cell_type": "code",
   "execution_count": 7,
   "metadata": {
    "scrolled": false
   },
   "outputs": [
    {
     "name": "stdout",
     "output_type": "stream",
     "text": [
      "Info    : Running 'gmsh -3 /tmp/tmpe4lfr08u.geo -format msh -bin -o /tmp/tmp4k4e8s5b.msh' [Gmsh 4.0.1-git-5d9cca6, 1 node, max. 1 thread]\n",
      "Info    : Started on Thu Oct 18 21:31:20 2018\n",
      "Info    : Reading '/tmp/tmpe4lfr08u.geo'...\n",
      "Info    : Done reading '/tmp/tmpe4lfr08u.geo'\n",
      "Info    : Meshing 1D...\n",
      "Info    : Meshing curve 1 (Line)\n",
      "Info    : Meshing curve 2 (Line)\n",
      "Info    : Meshing curve 3 (Line)\n",
      "Info    : Meshing curve 4 (Line)\n",
      "Info    : Meshing curve 5 (Line)\n",
      "Info    : Meshing curve 6 (Line)\n",
      "Info    : Meshing curve 7 (Line)\n",
      "Info    : Meshing curve 8 (Line)\n",
      "Info    : Meshing curve 9 (Line)\n",
      "Info    : Meshing curve 10 (Line)\n",
      "Info    : Meshing curve 11 (Line)\n",
      "Info    : Meshing curve 12 (Line)\n",
      "Info    : Meshing curve 13 (Line)\n",
      "Info    : Meshing curve 14 (Line)\n",
      "Info    : Meshing curve 15 (Line)\n",
      "Info    : Meshing curve 16 (Line)\n",
      "Info    : Meshing curve 17 (Line)\n",
      "Info    : Meshing curve 18 (Line)\n",
      "Info    : Meshing curve 19 (Line)\n",
      "Info    : Meshing curve 20 (Line)\n",
      "Info    : Meshing curve 21 (Line)\n",
      "Info    : Meshing curve 22 (Line)\n",
      "Info    : Meshing curve 23 (Line)\n",
      "Info    : Meshing curve 24 (Line)\n",
      "Info    : Meshing curve 25 (Line)\n",
      "Info    : Meshing curve 26 (Line)\n",
      "Info    : Meshing curve 27 (Line)\n",
      "Info    : Meshing curve 28 (Line)\n",
      "Info    : Done meshing 1D (0.005194 s)\n",
      "Info    : Meshing 2D...\n",
      "Info    : Meshing surface 30 (Plane, MeshAdapt)\n",
      "Info    : Done meshing 2D (4.00878 s)\n",
      "Info    : Meshing 3D...\n",
      "Info    : Done meshing 3D (3.1e-05 s)\n",
      "Info    : 14681 vertices 29388 elements\n",
      "Info    : Writing '/tmp/tmp4k4e8s5b.msh'...\n",
      "Info    : Done writing '/tmp/tmp4k4e8s5b.msh'\n",
      "Info    : Stopped on Thu Oct 18 21:31:24 2018\n",
      "Info    : Running 'gmsh -3 /tmp/tmpg2d5xg4n.geo -format msh -bin -o /tmp/tmpjtgjscn1.msh' [Gmsh 4.0.1-git-5d9cca6, 1 node, max. 1 thread]\n",
      "Info    : Started on Thu Oct 18 21:31:31 2018\n",
      "Info    : Reading '/tmp/tmpg2d5xg4n.geo'...\n",
      "Info    : Done reading '/tmp/tmpg2d5xg4n.geo'\n",
      "Info    : Meshing 1D...\n",
      "Info    : Meshing curve 1 (Line)\n",
      "Info    : Meshing curve 2 (Line)\n",
      "Info    : Meshing curve 3 (Line)\n",
      "Info    : Meshing curve 4 (Line)\n",
      "Info    : Meshing curve 5 (Line)\n",
      "Info    : Meshing curve 6 (Line)\n",
      "Info    : Meshing curve 7 (Line)\n",
      "Info    : Meshing curve 8 (Line)\n",
      "Info    : Meshing curve 9 (Line)\n",
      "Info    : Meshing curve 10 (Line)\n",
      "Info    : Meshing curve 11 (Line)\n",
      "Info    : Meshing curve 12 (Line)\n",
      "Info    : Meshing curve 13 (Line)\n",
      "Info    : Meshing curve 14 (Line)\n",
      "Info    : Meshing curve 15 (Line)\n",
      "Info    : Meshing curve 16 (Line)\n",
      "Info    : Meshing curve 17 (Line)\n",
      "Info    : Meshing curve 18 (Line)\n",
      "Info    : Meshing curve 19 (Line)\n",
      "Info    : Meshing curve 20 (Line)\n",
      "Info    : Meshing curve 21 (Line)\n",
      "Info    : Meshing curve 22 (Line)\n",
      "Info    : Meshing curve 23 (Line)\n",
      "Info    : Meshing curve 24 (Line)\n",
      "Info    : Meshing curve 25 (Line)\n",
      "Info    : Meshing curve 26 (Line)\n",
      "Info    : Meshing curve 27 (Line)\n",
      "Info    : Meshing curve 28 (Line)\n",
      "Info    : Done meshing 1D (0.004813 s)\n",
      "Info    : Meshing 2D...\n",
      "Info    : Meshing surface 30 (Plane, MeshAdapt)\n"
     ]
    },
    {
     "ename": "KeyboardInterrupt",
     "evalue": "",
     "output_type": "error",
     "traceback": [
      "\u001b[0;31m---------------------------------------------------------------------------\u001b[0m",
      "\u001b[0;31mKeyboardInterrupt\u001b[0m                         Traceback (most recent call last)",
      "\u001b[0;32m<ipython-input-7-9d28226900c7>\u001b[0m in \u001b[0;36m<module>\u001b[0;34m()\u001b[0m\n\u001b[1;32m      4\u001b[0m \u001b[0mscores\u001b[0m \u001b[0;34m=\u001b[0m \u001b[0;34m[\u001b[0m\u001b[0;34m]\u001b[0m\u001b[0;34m\u001b[0m\u001b[0m\n\u001b[1;32m      5\u001b[0m \u001b[0;32mfor\u001b[0m \u001b[0md13\u001b[0m\u001b[0;34m,\u001b[0m \u001b[0md2\u001b[0m \u001b[0;32min\u001b[0m \u001b[0ml\u001b[0m\u001b[0;34m:\u001b[0m\u001b[0;34m\u001b[0m\u001b[0m\n\u001b[0;32m----> 6\u001b[0;31m     \u001b[0mscores\u001b[0m\u001b[0;34m.\u001b[0m\u001b[0mappend\u001b[0m\u001b[0;34m(\u001b[0m\u001b[0mcount_diff_prin_plot\u001b[0m\u001b[0;34m(\u001b[0m\u001b[0mf1\u001b[0m\u001b[0;34m,\u001b[0m \u001b[0mf2\u001b[0m\u001b[0;34m,\u001b[0m \u001b[0md13\u001b[0m\u001b[0;34m,\u001b[0m \u001b[0md2\u001b[0m\u001b[0;34m)\u001b[0m\u001b[0;34m)\u001b[0m\u001b[0;34m\u001b[0m\u001b[0m\n\u001b[0m",
      "\u001b[0;32m<ipython-input-2-44e87579a415>\u001b[0m in \u001b[0;36mcount_diff_prin_plot\u001b[0;34m(f1, f2, d13, d2)\u001b[0m\n\u001b[1;32m      5\u001b[0m     \u001b[0mlcar\u001b[0m \u001b[0;34m=\u001b[0m \u001b[0;36m0.1\u001b[0m\u001b[0;34m\u001b[0m\u001b[0m\n\u001b[1;32m      6\u001b[0m     \u001b[0mdList\u001b[0m \u001b[0;34m=\u001b[0m \u001b[0;34m[\u001b[0m\u001b[0md13\u001b[0m\u001b[0;34m,\u001b[0m \u001b[0md2\u001b[0m\u001b[0;34m,\u001b[0m \u001b[0md13\u001b[0m\u001b[0;34m]\u001b[0m\u001b[0;34m\u001b[0m\u001b[0m\n\u001b[0;32m----> 7\u001b[0;31m     \u001b[0mf1_mod\u001b[0m\u001b[0;34m,\u001b[0m \u001b[0mf2_mod\u001b[0m\u001b[0;34m,\u001b[0m \u001b[0mfreq\u001b[0m \u001b[0;34m=\u001b[0m \u001b[0mhp\u001b[0m\u001b[0;34m.\u001b[0m\u001b[0mget_characteristic\u001b[0m\u001b[0;34m(\u001b[0m\u001b[0mwidth\u001b[0m\u001b[0;34m,\u001b[0m \u001b[0mlsList\u001b[0m\u001b[0;34m,\u001b[0m \u001b[0mdList\u001b[0m\u001b[0;34m,\u001b[0m \u001b[0mepsilon\u001b[0m\u001b[0;34m,\u001b[0m \u001b[0mlcar\u001b[0m\u001b[0;34m)\u001b[0m\u001b[0;34m\u001b[0m\u001b[0m\n\u001b[0m\u001b[1;32m      8\u001b[0m     \u001b[0mscore\u001b[0m \u001b[0;34m=\u001b[0m \u001b[0mnp\u001b[0m\u001b[0;34m.\u001b[0m\u001b[0msum\u001b[0m\u001b[0;34m(\u001b[0m\u001b[0mnp\u001b[0m\u001b[0;34m.\u001b[0m\u001b[0mabsolute\u001b[0m\u001b[0;34m(\u001b[0m\u001b[0mf1\u001b[0m \u001b[0;34m-\u001b[0m \u001b[0mf1_mod\u001b[0m\u001b[0;34m)\u001b[0m \u001b[0;34m+\u001b[0m \u001b[0mnp\u001b[0m\u001b[0;34m.\u001b[0m\u001b[0mabsolute\u001b[0m\u001b[0;34m(\u001b[0m\u001b[0mf2\u001b[0m \u001b[0;34m-\u001b[0m \u001b[0mf2_mod\u001b[0m\u001b[0;34m)\u001b[0m\u001b[0;34m)\u001b[0m\u001b[0;34m\u001b[0m\u001b[0m\n\u001b[1;32m      9\u001b[0m \u001b[0;34m\u001b[0m\u001b[0m\n",
      "\u001b[0;32m~/Optimisation/createMeshData.py\u001b[0m in \u001b[0;36mget_characteristic\u001b[0;34m(width, lsList, dList, epsilon, lcar)\u001b[0m\n\u001b[1;32m    136\u001b[0m     \u001b[0;32mimport\u001b[0m \u001b[0mmeshio\u001b[0m\u001b[0;34m\u001b[0m\u001b[0m\n\u001b[1;32m    137\u001b[0m     (points, cells, point_data, cell_data, field_data, pList) = siatka(\n\u001b[0;32m--> 138\u001b[0;31m         width, lsList, dList, epsilon, lcar)\n\u001b[0m\u001b[1;32m    139\u001b[0m \u001b[0;34m\u001b[0m\u001b[0m\n\u001b[1;32m    140\u001b[0m     (enterPoints, exitPoints, boundPoints, freePoints, enterIndx, exitIndx,\n",
      "\u001b[0;32m~/Optimisation/createMeshData.py\u001b[0m in \u001b[0;36msiatka\u001b[0;34m(w, l_list, d_list, epsilon, lcar)\u001b[0m\n\u001b[1;32m     55\u001b[0m     \u001b[0;32mif\u001b[0m \u001b[0mos\u001b[0m\u001b[0;34m.\u001b[0m\u001b[0mname\u001b[0m \u001b[0;34m==\u001b[0m \u001b[0;34m'posix'\u001b[0m\u001b[0;34m:\u001b[0m\u001b[0;34m\u001b[0m\u001b[0m\n\u001b[1;32m     56\u001b[0m         points, cells, point_data, cell_data, field_data = pygmsh.generate_mesh(\n\u001b[0;32m---> 57\u001b[0;31m             geom)\n\u001b[0m\u001b[1;32m     58\u001b[0m     \u001b[0;32melse\u001b[0m\u001b[0;34m:\u001b[0m\u001b[0;34m\u001b[0m\u001b[0m\n\u001b[1;32m     59\u001b[0m         points, cells, point_data, cell_data, field_data = pygmsh.generate_mesh(\n",
      "\u001b[0;32m~/.conda/envs/inz/lib/python3.6/site-packages/pygmsh/helpers.py\u001b[0m in \u001b[0;36mgenerate_mesh\u001b[0;34m(geo_object, verbose, dim, prune_vertices, remove_faces, gmsh_path, extra_gmsh_arguments, geo_filename, fast_conversion)\u001b[0m\n\u001b[1;32m    132\u001b[0m     \u001b[0;32mif\u001b[0m \u001b[0mverbose\u001b[0m\u001b[0;34m:\u001b[0m\u001b[0;34m\u001b[0m\u001b[0m\n\u001b[1;32m    133\u001b[0m         \u001b[0;32mwhile\u001b[0m \u001b[0;32mTrue\u001b[0m\u001b[0;34m:\u001b[0m\u001b[0;34m\u001b[0m\u001b[0m\n\u001b[0;32m--> 134\u001b[0;31m             \u001b[0mline\u001b[0m \u001b[0;34m=\u001b[0m \u001b[0mp\u001b[0m\u001b[0;34m.\u001b[0m\u001b[0mstdout\u001b[0m\u001b[0;34m.\u001b[0m\u001b[0mreadline\u001b[0m\u001b[0;34m(\u001b[0m\u001b[0;34m)\u001b[0m\u001b[0;34m\u001b[0m\u001b[0m\n\u001b[0m\u001b[1;32m    135\u001b[0m             \u001b[0;32mif\u001b[0m \u001b[0;32mnot\u001b[0m \u001b[0mline\u001b[0m\u001b[0;34m:\u001b[0m\u001b[0;34m\u001b[0m\u001b[0m\n\u001b[1;32m    136\u001b[0m                 \u001b[0;32mbreak\u001b[0m\u001b[0;34m\u001b[0m\u001b[0m\n",
      "\u001b[0;31mKeyboardInterrupt\u001b[0m: "
     ]
    },
    {
     "data": {
      "text/plain": [
       "<Figure size 432x288 with 0 Axes>"
      ]
     },
     "metadata": {},
     "output_type": "display_data"
    }
   ],
   "source": [
    "\n",
    "f1, f2 = f11, f21\n",
    "l =[(2.8, 4.2), (3.44, 2.7), (3.22, 3.45), (2.9, 4.1)]\n",
    "scores = []\n",
    "for d13, d2 in l:\n",
    "    scores.append(count_diff_prin_plot(f1, f2, d13, d2))"
   ]
  },
  {
   "cell_type": "code",
   "execution_count": null,
   "metadata": {},
   "outputs": [],
   "source": [
    "\n",
    "d13 = 3.44\n",
    "d2 = 2.7\n",
    "dList = [d13, d2, d13]\n",
    "f12, f22, freq = hp.get_characteristic(width, lsList, dList, epsilon, lcar)"
   ]
  },
  {
   "cell_type": "code",
   "execution_count": null,
   "metadata": {},
   "outputs": [],
   "source": [
    "print(dList)\n",
    "plt.plot(freq / 1e-9, f11[0], 'r')\n",
    "plt.plot(freq / 1e-9, f21[0], 'b')\n",
    "plt.savefig(\"2.8_4.2_version1.png\")"
   ]
  },
  {
   "cell_type": "code",
   "execution_count": null,
   "metadata": {},
   "outputs": [],
   "source": [
    "import matplotlib.pyplot as plt\n",
    "plt.plot(freq / 1e-9, f12[0], 'r')\n",
    "plt.plot(freq / 1e-9, f22[0], 'b')\n",
    "plt.savefig(\"3.44_2.7_version1.png\")\n"
   ]
  },
  {
   "cell_type": "code",
   "execution_count": null,
   "metadata": {},
   "outputs": [],
   "source": [
    "plt.plot(freq / 1e-9, f11[0]-f12[0], 'r')\n",
    "plt.plot(freq / 1e-9, f21[0]-f22[0], 'b')\n",
    "plt.savefig(\"difference.png\")"
   ]
  },
  {
   "cell_type": "code",
   "execution_count": null,
   "metadata": {},
   "outputs": [],
   "source": [
    "# -*- coding: utf-8 -*-\n",
    "import pygmsh\n",
    "import meshio\n",
    "\n",
    "def test():\n",
    "    geom = pygmsh.built_in.Geometry()\n",
    "\n",
    "    geom.add_polygon([[0,0,0], [1, 0, 0], [1, 1, 0], [0,1,0]], lcar=lcar)#0.25 is quite decent\n",
    "\n",
    "\n",
    "    ref = 1.0\n",
    "    points, cells, _, _, _ = pygmsh.generate_mesh(geom)\n",
    "    return points, cells"
   ]
  },
  {
   "cell_type": "code",
   "execution_count": null,
   "metadata": {},
   "outputs": [],
   "source": [
    "p, c = test()"
   ]
  },
  {
   "cell_type": "code",
   "execution_count": null,
   "metadata": {},
   "outputs": [],
   "source": [
    "len(p)"
   ]
  },
  {
   "cell_type": "code",
   "execution_count": null,
   "metadata": {},
   "outputs": [],
   "source": [
    "len(c['triangle'])"
   ]
  },
  {
   "cell_type": "code",
   "execution_count": null,
   "metadata": {},
   "outputs": [],
   "source": []
  }
 ],
 "metadata": {
  "kernelspec": {
   "display_name": "Python 3",
   "language": "python",
   "name": "python3"
  },
  "language_info": {
   "codemirror_mode": {
    "name": "ipython",
    "version": 3
   },
   "file_extension": ".py",
   "mimetype": "text/x-python",
   "name": "python",
   "nbconvert_exporter": "python",
   "pygments_lexer": "ipython3",
   "version": "3.6.6"
  }
 },
 "nbformat": 4,
 "nbformat_minor": 2
}
